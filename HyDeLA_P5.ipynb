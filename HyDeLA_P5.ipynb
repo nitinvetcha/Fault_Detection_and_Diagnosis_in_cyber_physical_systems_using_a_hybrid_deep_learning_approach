{
  "cells": [
    {
      "cell_type": "code",
      "source": [
        "from google.colab import drive\n",
        "drive.mount('/content/drive')"
      ],
      "metadata": {
        "colab": {
          "base_uri": "https://localhost:8080/"
        },
        "id": "e3cgII1g7e3E",
        "outputId": "d9e95622-2838-4278-d6f8-1168ad3f858b"
      },
      "execution_count": null,
      "outputs": [
        {
          "output_type": "stream",
          "name": "stdout",
          "text": [
            "Mounted at /content/drive\n"
          ]
        }
      ]
    },
    {
      "cell_type": "code",
      "source": [
        "pip install keras_tuner"
      ],
      "metadata": {
        "colab": {
          "base_uri": "https://localhost:8080/"
        },
        "id": "9Y9LCDCl911_",
        "outputId": "560759a6-5f29-4b72-8836-3e72f0c7e0d5"
      },
      "execution_count": null,
      "outputs": [
        {
          "output_type": "stream",
          "name": "stdout",
          "text": [
            "Collecting keras_tuner\n",
            "  Downloading keras_tuner-1.4.7-py3-none-any.whl (129 kB)\n",
            "\u001b[?25l     \u001b[90m━━━━━━━━━━━━━━━━━━━━━━━━━━━━━━━━━━━━━━━━\u001b[0m \u001b[32m0.0/129.1 kB\u001b[0m \u001b[31m?\u001b[0m eta \u001b[36m-:--:--\u001b[0m\r\u001b[2K     \u001b[91m━━━━━━━━━━━━━━━━━━━━━━━━━━━━━━━━━━\u001b[0m\u001b[91m╸\u001b[0m\u001b[90m━━━━━\u001b[0m \u001b[32m112.6/129.1 kB\u001b[0m \u001b[31m3.3 MB/s\u001b[0m eta \u001b[36m0:00:01\u001b[0m\r\u001b[2K     \u001b[90m━━━━━━━━━━━━━━━━━━━━━━━━━━━━━━━━━━━━━━━━\u001b[0m \u001b[32m129.1/129.1 kB\u001b[0m \u001b[31m2.4 MB/s\u001b[0m eta \u001b[36m0:00:00\u001b[0m\n",
            "\u001b[?25hRequirement already satisfied: keras in /usr/local/lib/python3.10/dist-packages (from keras_tuner) (2.15.0)\n",
            "Requirement already satisfied: packaging in /usr/local/lib/python3.10/dist-packages (from keras_tuner) (24.1)\n",
            "Requirement already satisfied: requests in /usr/local/lib/python3.10/dist-packages (from keras_tuner) (2.31.0)\n",
            "Collecting kt-legacy (from keras_tuner)\n",
            "  Downloading kt_legacy-1.0.5-py3-none-any.whl (9.6 kB)\n",
            "Requirement already satisfied: charset-normalizer<4,>=2 in /usr/local/lib/python3.10/dist-packages (from requests->keras_tuner) (3.3.2)\n",
            "Requirement already satisfied: idna<4,>=2.5 in /usr/local/lib/python3.10/dist-packages (from requests->keras_tuner) (3.7)\n",
            "Requirement already satisfied: urllib3<3,>=1.21.1 in /usr/local/lib/python3.10/dist-packages (from requests->keras_tuner) (2.0.7)\n",
            "Requirement already satisfied: certifi>=2017.4.17 in /usr/local/lib/python3.10/dist-packages (from requests->keras_tuner) (2024.6.2)\n",
            "Installing collected packages: kt-legacy, keras_tuner\n",
            "Successfully installed keras_tuner-1.4.7 kt-legacy-1.0.5\n"
          ]
        }
      ]
    },
    {
      "cell_type": "code",
      "execution_count": null,
      "metadata": {
        "id": "e7Bp7eIP9iBx"
      },
      "outputs": [],
      "source": [
        "import pandas as pd\n",
        "import numpy as np\n",
        "import matplotlib.pyplot as plt\n",
        "import seaborn as sns\n",
        "import os\n",
        "\n",
        "from sklearn.preprocessing import OneHotEncoder\n",
        "from sklearn.model_selection import train_test_split\n",
        "from sklearn.preprocessing import StandardScaler\n",
        "from sklearn.metrics import f1_score\n",
        "\n",
        "import tensorflow\n",
        "from tensorflow import keras\n",
        "import keras_tuner as kt\n",
        "\n",
        "\n",
        "from sklearn.svm import SVC\n",
        "from sklearn.ensemble import RandomForestClassifier\n",
        "from sklearn.neighbors import KNeighborsClassifier\n",
        "from sklearn.neural_network import MLPClassifier"
      ]
    },
    {
      "cell_type": "code",
      "execution_count": null,
      "metadata": {
        "id": "6_KlrFBB9iBy"
      },
      "outputs": [],
      "source": [
        "def Sliding_Window(df_temp, win_len, stride):\n",
        "    \"\"\"\n",
        "    Sliding window function for data segmentation and label extraction.\n",
        "\n",
        "    Args:\n",
        "        df_temp (DataFrame): Input dataframe containing the data.\n",
        "        win_len (int): Length of the sliding window.\n",
        "        stride (int): Stride or step size for sliding the window.\n",
        "\n",
        "    Returns:\n",
        "        X (ndarray): Segmented input sequences.\n",
        "        Y (ndarray): Extracted output labels.\n",
        "        T (ndarray): Corresponding timestamps.\n",
        "    \"\"\"\n",
        "    X = []  # List to store segmented input sequences.\n",
        "    Y = []  # List to store extracted output labels.\n",
        "    T = []  # List to store corresponding timestamps.\n",
        "\n",
        "    # Loop through the dataframe with the specified stride.\n",
        "    for i in np.arange(0, len(df_temp) - win_len, stride):\n",
        "        # Extract a subset of the dataframe based on the window length.\n",
        "        temp = df_temp.iloc[i:i + win_len, [1, 2]].values # Sensor data {Im, Wm}\n",
        "\n",
        "        # Append the segmented input sequence to the X list.\n",
        "        X.append(temp)\n",
        "\n",
        "        # Append the output label at the end of the window to the Y list.\n",
        "        Y.append(df_temp.iloc[i + win_len, -1])\n",
        "\n",
        "        # Append the timestamp at the end of the window to the T list.\n",
        "        T.append(df_temp.iloc[i + win_len, 0])\n",
        "\n",
        "    return np.array(X), np.array(Y), np.array(T)"
      ]
    },
    {
      "cell_type": "markdown",
      "metadata": {
        "id": "HZpBcL-N9iBz"
      },
      "source": [
        "- The data imported from the Matlab-simulink model are in **csv format**, with name as \"{Fault}_noise_02.csv\"\n",
        "- **M** number of such files are present, coresponding to **M** faults.\n",
        "- In each fault file, the fault is introduced at **t=\\[1000,1500\\]s** for incipient fault and **t=\\[2000,2500\\]s** for the step fault.\n",
        "\n",
        "The Goal is to extract only the values of residuals between t=\\[1000,1500\\]s and t=\\[2000,2500\\]s. These values are then stored in a **new DataFrame**, which contains the residual information for all the fault classes."
      ]
    },
    {
      "cell_type": "code",
      "execution_count": null,
      "metadata": {
        "id": "897cSoae9iB0"
      },
      "outputs": [],
      "source": [
        "def PreprocessData(working_cond, win_len, stride):\n",
        "    \"\"\"\n",
        "    Preprocessing function to extract input sequences and output labels from CSV files of a specific working condition.\n",
        "\n",
        "    Args:\n",
        "        working_cond (str): Working condition identifier used to locate the folder containing CSV files.\n",
        "        win_len (int): Length of the sliding window.\n",
        "        stride (int): Stride or step size for sliding the window.\n",
        "\n",
        "    Returns:\n",
        "        X_full (ndarray): Concatenated segmented input sequences.\n",
        "        Y_full (ndarray): Concatenated output labels.\n",
        "    \"\"\"\n",
        "    Path = r'/content/drive/MyDrive/ALL_DC_motor_Data/Ua_{}V_Noise_2_perct'.format(working_cond)  # Path of the folder containing CSV files from that working condition\n",
        "    file_name = os.listdir(path=Path)\n",
        "\n",
        "    X_full, Y_full = [], []  # Lists to store concatenated segmented input sequences and output labels\n",
        "\n",
        "    for f in file_name:  # Iterate through each file, which corresponds to a fault\n",
        "        csv_path = os.path.join(Path, f)\n",
        "        df = pd.read_csv(csv_path)\n",
        "\n",
        "        temp_df_1 = df[(df.time > 1050) & (df.time < 1500)]  # Incipient - Taking samples after which the parameter fault was introduced\n",
        "        x1, y1, _ = Sliding_Window(temp_df_1, win_len, stride)\n",
        "\n",
        "        temp_df_2 = df[(df.time > 2050) & (df.time < 2500)]  # Step - Taking samples after which the parameter fault was introduced\n",
        "        x2, y2, _ = Sliding_Window(temp_df_2, win_len, stride)\n",
        "\n",
        "        x_temp, y_temp = np.concatenate((x1, x2), axis=0), np.concatenate((y1, y2), axis=0)\n",
        "\n",
        "        X_full.append(x_temp)\n",
        "        Y_full.append(y_temp)\n",
        "\n",
        "    X_full = np.array(X_full)\n",
        "    X_full = np.reshape(X_full, (-1, X_full.shape[2], X_full.shape[3]))\n",
        "\n",
        "    Y_full = np.array(Y_full)\n",
        "    Y_full = np.reshape(Y_full, (-1))\n",
        "\n",
        "    return X_full, Y_full\n"
      ]
    },
    {
      "cell_type": "code",
      "execution_count": null,
      "metadata": {
        "id": "dMr-2yK79iB0"
      },
      "outputs": [],
      "source": [
        "WL=20\n",
        "S=40\n",
        "\n",
        "# Preprocess data for working condition 120\n",
        "X_120, Y_120 = PreprocessData(working_cond=120, win_len=WL, stride=S)\n",
        "\n",
        "# Preprocess data for working condition 80\n",
        "X_80, Y_80 = PreprocessData(working_cond=80, win_len=WL, stride=S)\n",
        "\n",
        "# Preprocess data for working condition 40\n",
        "X_40, Y_40 = PreprocessData(working_cond=40, win_len=WL, stride=S)"
      ]
    },
    {
      "cell_type": "code",
      "execution_count": null,
      "metadata": {
        "colab": {
          "base_uri": "https://localhost:8080/"
        },
        "id": "rBhJRU4W9iB0",
        "outputId": "a876fc01-3441-40bc-bc8c-71f8cab66442"
      },
      "outputs": [
        {
          "output_type": "stream",
          "name": "stdout",
          "text": [
            "Length of total data = 5376\n"
          ]
        }
      ],
      "source": [
        "# Concatenate the preprocessed data from different working conditions\n",
        "X_full = np.concatenate((X_40, X_80, X_120))\n",
        "Y_full = np.concatenate((Y_40, Y_80, Y_120))\n",
        "\n",
        "# Print the length of the total data\n",
        "print(f\"Length of total data = {len(X_full)}\")"
      ]
    },
    {
      "cell_type": "code",
      "execution_count": null,
      "metadata": {
        "id": "0MyVvTFp9iB0"
      },
      "outputs": [],
      "source": [
        "# Dictionary mapping fault labels to numerical values\n",
        "fault_label_dict = {'Healthy': 0, 'Re': 1, 'Rm': 2, 'I': 3, 'W': 4, 'K': 5, 'Re & Rm': 6, 'I & W': 7}\n",
        "\n",
        "# Convert fault labels in Y_full to corresponding numerical values using the fault_label_dict\n",
        "Y_full = np.vectorize(fault_label_dict.get)(Y_full)"
      ]
    },
    {
      "cell_type": "markdown",
      "metadata": {
        "id": "vZ4JU4PQ9iB1"
      },
      "source": [
        "## Resample the Data"
      ]
    },
    {
      "cell_type": "code",
      "execution_count": null,
      "metadata": {
        "id": "s5eCkANc9iB1"
      },
      "outputs": [],
      "source": [
        "def n_samples_per_class(X_sc,Y,num_samples):\n",
        "    \"\"\"\n",
        "    Function to sample a specified number of data points per class.\n",
        "\n",
        "    Args:\n",
        "        X_sc (ndarray): Input data array.\n",
        "        Y (ndarray): Label array.\n",
        "        num_samples (int): Number of samples to be selected per class.\n",
        "\n",
        "    Returns:\n",
        "        x_sample (ndarray): Sampled input data.\n",
        "        y_sample (ndarray): Sampled labels.\n",
        "    \"\"\"\n",
        "    from sklearn.utils import resample\n",
        "\n",
        "    if len(X_sc.shape)==3:\n",
        "        # Initialize empty arrays for the sampled data\n",
        "        x_sample = np.zeros((num_samples * np.unique(Y).size, X_sc.shape[1], X_sc.shape[2]))\n",
        "    else:\n",
        "        x_sample = np.zeros((num_samples * np.unique(Y).size, X_sc.shape[1]))\n",
        "    y_sample = np.zeros(num_samples * np.unique(Y).size)\n",
        "\n",
        "    # Loop over each class label and sample from the corresponding data points\n",
        "    for i, label in enumerate(np.unique(Y)):\n",
        "        class_indices = np.where(Y == label)[0]\n",
        "        sampled_indices = resample(class_indices, n_samples=num_samples, replace=False, random_state=0)\n",
        "        x_sample[i*num_samples:(i+1)*num_samples] = X_sc[sampled_indices]\n",
        "        y_sample[i*num_samples:(i+1)*num_samples] = Y[sampled_indices]\n",
        "\n",
        "    return x_sample,y_sample"
      ]
    },
    {
      "cell_type": "code",
      "execution_count": null,
      "metadata": {
        "id": "QFldkVqw9iB1"
      },
      "outputs": [],
      "source": [
        "def Scale_Encode(X_full,Y_full, num_training_samples):\n",
        "    # Train Test split\n",
        "    X_train,y_train=n_samples_per_class(X_full,Y_full,num_samples=num_training_samples)\n",
        "    X_test,y_test = X_full, Y_full\n",
        "\n",
        "    # Standardising the data\n",
        "    scaler = StandardScaler()\n",
        "    X_train_sc = scaler.fit_transform(X_train.reshape(-1,X_train.shape[-1])).reshape(X_train.shape)\n",
        "    X_test_sc = scaler.transform(X_test.reshape(-1,X_test.shape[-1])).reshape(X_test.shape)\n",
        "    # One Hot encoding\n",
        "    encoder = OneHotEncoder(sparse_output=False)\n",
        "    y_train_ohe = encoder.fit_transform(y_train.reshape(-1,1))\n",
        "    y_test_ohe = encoder.transform(y_test.reshape(-1,1))\n",
        "\n",
        "    return X_train_sc, X_test_sc, y_train_ohe, y_test_ohe, scaler, encoder"
      ]
    },
    {
      "cell_type": "markdown",
      "metadata": {
        "id": "ewFQ5JyI9iB1"
      },
      "source": [
        "# Tuned CNN model"
      ]
    },
    {
      "cell_type": "code",
      "execution_count": null,
      "metadata": {
        "id": "_nfjq3mA9iB1"
      },
      "outputs": [],
      "source": [
        "def CNN_model(encoder,X_train_transformed):\n",
        "    from tensorflow.keras.models import Sequential,Model\n",
        "    from tensorflow.keras.layers import Input,Dense, Dropout, Flatten\n",
        "    from tensorflow.keras.layers import Conv1D, MaxPooling1D\n",
        "\n",
        "    # Hyperparameters obtained aftre tuning\n",
        "    num_k1=112\n",
        "    k1 = 5\n",
        "    num_d1=96\n",
        "    alpha = 0.001\n",
        "\n",
        "    num_classes=len(encoder.categories_[0])\n",
        "\n",
        "    cnn_model = Sequential()\n",
        "    cnn_model.add(Conv1D(num_k1, kernel_size=(k1),activation='relu',input_shape=(X_train_transformed.shape[1],X_train_transformed.shape[2]),padding='same'))\n",
        "    cnn_model.add(MaxPooling1D((2),padding='same'))\n",
        "    cnn_model.add(Flatten())\n",
        "    cnn_model.add(Dense(num_d1, activation='relu'))\n",
        "    cnn_model.add(Dense(num_classes, activation='softmax'))\n",
        "\n",
        "    cnn_model.compile(loss='categorical_crossentropy', optimizer=tensorflow.keras.optimizers.Adam(learning_rate=alpha),metrics=['accuracy'])\n",
        "\n",
        "    return cnn_model"
      ]
    },
    {
      "cell_type": "markdown",
      "metadata": {
        "id": "u48Rm2jU9iB1"
      },
      "source": [
        "# AI Training"
      ]
    },
    {
      "cell_type": "markdown",
      "metadata": {
        "id": "KvT5fd1A9iB1"
      },
      "source": [
        "# number of samples Vs F1 score"
      ]
    },
    {
      "cell_type": "code",
      "execution_count": null,
      "metadata": {
        "colab": {
          "base_uri": "https://localhost:8080/"
        },
        "id": "aVhz01Z39iB1",
        "outputId": "a9729bb2-7538-44e4-eae2-6f6767ab0fee"
      },
      "outputs": [
        {
          "output_type": "stream",
          "name": "stdout",
          "text": [
            "Experiment for N = 1\n",
            "Experiment for N = 2\n",
            "Experiment for N = 4\n"
          ]
        },
        {
          "output_type": "stream",
          "name": "stderr",
          "text": [
            "/usr/local/lib/python3.10/dist-packages/sklearn/neural_network/_multilayer_perceptron.py:686: ConvergenceWarning: Stochastic Optimizer: Maximum iterations (900) reached and the optimization hasn't converged yet.\n",
            "  warnings.warn(\n"
          ]
        },
        {
          "output_type": "stream",
          "name": "stdout",
          "text": [
            "Experiment for N = 8\n"
          ]
        },
        {
          "output_type": "stream",
          "name": "stderr",
          "text": [
            "/usr/local/lib/python3.10/dist-packages/sklearn/neural_network/_multilayer_perceptron.py:686: ConvergenceWarning: Stochastic Optimizer: Maximum iterations (900) reached and the optimization hasn't converged yet.\n",
            "  warnings.warn(\n"
          ]
        },
        {
          "output_type": "stream",
          "name": "stdout",
          "text": [
            "Experiment for N = 16\n"
          ]
        },
        {
          "output_type": "stream",
          "name": "stderr",
          "text": [
            "/usr/local/lib/python3.10/dist-packages/sklearn/neural_network/_multilayer_perceptron.py:686: ConvergenceWarning: Stochastic Optimizer: Maximum iterations (900) reached and the optimization hasn't converged yet.\n",
            "  warnings.warn(\n"
          ]
        },
        {
          "output_type": "stream",
          "name": "stdout",
          "text": [
            "Experiment for N = 32\n",
            "Experiment for N = 64\n"
          ]
        },
        {
          "output_type": "stream",
          "name": "stderr",
          "text": [
            "/usr/local/lib/python3.10/dist-packages/sklearn/neural_network/_multilayer_perceptron.py:686: ConvergenceWarning: Stochastic Optimizer: Maximum iterations (900) reached and the optimization hasn't converged yet.\n",
            "  warnings.warn(\n"
          ]
        },
        {
          "output_type": "stream",
          "name": "stdout",
          "text": [
            "Experiment for N = 100\n"
          ]
        },
        {
          "output_type": "stream",
          "name": "stderr",
          "text": [
            "/usr/local/lib/python3.10/dist-packages/sklearn/neural_network/_multilayer_perceptron.py:686: ConvergenceWarning: Stochastic Optimizer: Maximum iterations (900) reached and the optimization hasn't converged yet.\n",
            "  warnings.warn(\n"
          ]
        },
        {
          "output_type": "stream",
          "name": "stdout",
          "text": [
            "Experiment for N = 128\n",
            "CNN - raw sensor Experiment for N = 1\n",
            "168/168 [==============================] - 1s 3ms/step\n",
            "CNN - raw sensor Experiment for N = 2\n",
            "168/168 [==============================] - 0s 2ms/step\n",
            "CNN - raw sensor Experiment for N = 4\n",
            "168/168 [==============================] - 0s 2ms/step\n",
            "CNN - raw sensor Experiment for N = 8\n",
            "168/168 [==============================] - 0s 2ms/step\n",
            "CNN - raw sensor Experiment for N = 16\n",
            "168/168 [==============================] - 0s 2ms/step\n",
            "CNN - raw sensor Experiment for N = 32\n",
            "168/168 [==============================] - 0s 2ms/step\n",
            "CNN - raw sensor Experiment for N = 64\n",
            "168/168 [==============================] - 0s 2ms/step\n",
            "CNN - raw sensor Experiment for N = 100\n",
            "168/168 [==============================] - 0s 2ms/step\n",
            "CNN - raw sensor Experiment for N = 128\n",
            "168/168 [==============================] - 0s 2ms/step\n"
          ]
        }
      ],
      "source": [
        "f1_RF = []  # List to store F1 scores for Random Forest classifier\n",
        "f1_KNN = []  # List to store F1 scores for K-Nearest Neighbors classifier\n",
        "f1_SVM = []  # List to store F1 scores for Support Vector Machine classifier\n",
        "f1_ANN = []  # List to store F1 scores for Artificial Neural Network classifier\n",
        "\n",
        "# Iterate over different values of N\n",
        "for N in [1, 2, 4, 8, 16, 32, 64, 100, 128]:\n",
        "    print(f'Experiment for N = {N}')\n",
        "\n",
        "    # Scale, encode, and split the data\n",
        "    X_train_sc, X_test_sc, y_train_ohe, y_test_ohe, scaler, encoder = Scale_Encode(X_full, Y_full, num_training_samples=N)\n",
        "    X_train_sc, X_test_sc = X_train_sc.reshape(X_train_sc.shape[0], -1), X_test_sc.reshape(X_test_sc.shape[0], -1)\n",
        "    y_train, y_test = encoder.inverse_transform(y_train_ohe), encoder.inverse_transform(y_test_ohe)\n",
        "\n",
        "    # Support Vector Machine (SVM)\n",
        "    svc = SVC().fit(X_train_sc, y_train.ravel())\n",
        "    y_pred_svc = svc.predict(X_test_sc)\n",
        "    f1_SVM.append(f1_score(y_test, y_pred_svc, average='micro'))\n",
        "\n",
        "    # K-Nearest Neighbors (KNN)\n",
        "    KNC = KNeighborsClassifier().fit(X_train_sc, y_train.ravel())\n",
        "    y_pred_knc = KNC.predict(X_test_sc)\n",
        "    f1_KNN.append(f1_score(y_test, y_pred_knc, average='micro'))\n",
        "\n",
        "    # Random Forest (RF)\n",
        "    RF = RandomForestClassifier().fit(X_train_sc, y_train.ravel())\n",
        "    y_pred_rf = RF.predict(X_test_sc)\n",
        "    f1_RF.append(f1_score(y_test, y_pred_rf, average='micro'))\n",
        "\n",
        "    # Artificial Neural Network (ANN)\n",
        "    ANN = MLPClassifier(max_iter=900).fit(X_train_sc, y_train.ravel())\n",
        "    y_pred_ann = ANN.predict(X_test_sc)\n",
        "    f1_ANN.append(f1_score(y_test, y_pred_ann, average='micro'))\n",
        "\n",
        "f1_CNN = []  # List to store F1 scores for CNN with raw sensor signals\n",
        "\n",
        "# Iterate over different values of N\n",
        "for N in [1, 2, 4, 8, 16, 32, 64, 100, 128]:\n",
        "    print(f'CNN - raw sensor Experiment for N = {N}')\n",
        "\n",
        "    # Scale, encode, and split the data\n",
        "    X_train_sc, X_test_sc, y_train_ohe, y_test_ohe, scaler, encoder = Scale_Encode(X_full, Y_full, num_training_samples=N)\n",
        "\n",
        "    # Create and train the CNN model\n",
        "    cnn_model = CNN_model(encoder, X_train_sc)\n",
        "    callback = tensorflow.keras.callbacks.EarlyStopping(monitor='accuracy', patience=10, restore_best_weights=True)\n",
        "    cnn_model.fit(X_train_sc,\n",
        "                  y_train_ohe,\n",
        "                  epochs=200,\n",
        "                  batch_size=int(0.1 * len(X_train_sc)),\n",
        "                  callbacks=[callback],\n",
        "                  shuffle=True, verbose=0)\n",
        "\n",
        "    # Make predictions and calculate F1 score\n",
        "    y_pred = cnn_model.predict(X_test_sc)\n",
        "    y_pred = encoder.inverse_transform(y_pred)\n",
        "    y_test = encoder.inverse_transform(y_test_ohe)\n",
        "\n",
        "    f1_CNN.append(f1_score(y_test, y_pred, average='micro'))\n"
      ]
    },
    {
      "cell_type": "code",
      "execution_count": null,
      "metadata": {
        "colab": {
          "base_uri": "https://localhost:8080/",
          "height": 219
        },
        "id": "AJpeasTi9iB2",
        "outputId": "5843fc34-2189-4378-cb5e-cf1489492975"
      },
      "outputs": [
        {
          "output_type": "error",
          "ename": "NameError",
          "evalue": "name 'plt' is not defined",
          "traceback": [
            "\u001b[0;31m---------------------------------------------------------------------------\u001b[0m",
            "\u001b[0;31mNameError\u001b[0m                                 Traceback (most recent call last)",
            "\u001b[0;32m<ipython-input-1-36a58c8409a1>\u001b[0m in \u001b[0;36m<cell line: 1>\u001b[0;34m()\u001b[0m\n\u001b[0;32m----> 1\u001b[0;31m \u001b[0mplt\u001b[0m\u001b[0;34m.\u001b[0m\u001b[0mplot\u001b[0m\u001b[0;34m(\u001b[0m\u001b[0;34m[\u001b[0m\u001b[0mstr\u001b[0m\u001b[0;34m(\u001b[0m\u001b[0mx\u001b[0m\u001b[0;34m)\u001b[0m \u001b[0;32mfor\u001b[0m \u001b[0mx\u001b[0m \u001b[0;32min\u001b[0m \u001b[0;34m[\u001b[0m\u001b[0;36m1\u001b[0m\u001b[0;34m,\u001b[0m\u001b[0;36m2\u001b[0m\u001b[0;34m,\u001b[0m\u001b[0;36m4\u001b[0m\u001b[0;34m,\u001b[0m\u001b[0;36m8\u001b[0m\u001b[0;34m,\u001b[0m\u001b[0;36m16\u001b[0m\u001b[0;34m,\u001b[0m\u001b[0;36m32\u001b[0m\u001b[0;34m,\u001b[0m\u001b[0;36m64\u001b[0m\u001b[0;34m,\u001b[0m\u001b[0;36m100\u001b[0m\u001b[0;34m,\u001b[0m\u001b[0;36m128\u001b[0m\u001b[0;34m]\u001b[0m\u001b[0;34m]\u001b[0m\u001b[0;34m,\u001b[0m\u001b[0mf1_SVM\u001b[0m\u001b[0;34m,\u001b[0m\u001b[0mcolor\u001b[0m\u001b[0;34m=\u001b[0m\u001b[0;34m'#90c97f'\u001b[0m\u001b[0;34m,\u001b[0m\u001b[0mmarker\u001b[0m\u001b[0;34m=\u001b[0m\u001b[0;34m'^'\u001b[0m\u001b[0;34m,\u001b[0m \u001b[0mlinewidth\u001b[0m\u001b[0;34m=\u001b[0m\u001b[0;36m1.5\u001b[0m\u001b[0;34m,\u001b[0m \u001b[0mmarkersize\u001b[0m\u001b[0;34m=\u001b[0m\u001b[0;36m6\u001b[0m\u001b[0;34m,\u001b[0m \u001b[0mlinestyle\u001b[0m \u001b[0;34m=\u001b[0m \u001b[0;34m'dashed'\u001b[0m\u001b[0;34m)\u001b[0m\u001b[0;34m\u001b[0m\u001b[0;34m\u001b[0m\u001b[0m\n\u001b[0m\u001b[1;32m      2\u001b[0m \u001b[0mplt\u001b[0m\u001b[0;34m.\u001b[0m\u001b[0mplot\u001b[0m\u001b[0;34m(\u001b[0m\u001b[0;34m[\u001b[0m\u001b[0mstr\u001b[0m\u001b[0;34m(\u001b[0m\u001b[0mx\u001b[0m\u001b[0;34m)\u001b[0m \u001b[0;32mfor\u001b[0m \u001b[0mx\u001b[0m \u001b[0;32min\u001b[0m \u001b[0;34m[\u001b[0m\u001b[0;36m1\u001b[0m\u001b[0;34m,\u001b[0m\u001b[0;36m2\u001b[0m\u001b[0;34m,\u001b[0m\u001b[0;36m4\u001b[0m\u001b[0;34m,\u001b[0m\u001b[0;36m8\u001b[0m\u001b[0;34m,\u001b[0m\u001b[0;36m16\u001b[0m\u001b[0;34m,\u001b[0m\u001b[0;36m32\u001b[0m\u001b[0;34m,\u001b[0m\u001b[0;36m64\u001b[0m\u001b[0;34m,\u001b[0m\u001b[0;36m100\u001b[0m\u001b[0;34m,\u001b[0m\u001b[0;36m128\u001b[0m\u001b[0;34m]\u001b[0m\u001b[0;34m]\u001b[0m\u001b[0;34m,\u001b[0m\u001b[0mf1_KNN\u001b[0m\u001b[0;34m,\u001b[0m\u001b[0mcolor\u001b[0m\u001b[0;34m=\u001b[0m\u001b[0;34m'#7fa2c9'\u001b[0m\u001b[0;34m,\u001b[0m\u001b[0mmarker\u001b[0m\u001b[0;34m=\u001b[0m\u001b[0;34m's'\u001b[0m\u001b[0;34m,\u001b[0m \u001b[0mlinewidth\u001b[0m\u001b[0;34m=\u001b[0m\u001b[0;36m1.5\u001b[0m\u001b[0;34m,\u001b[0m \u001b[0mmarkersize\u001b[0m\u001b[0;34m=\u001b[0m\u001b[0;36m6\u001b[0m\u001b[0;34m)\u001b[0m\u001b[0;34m\u001b[0m\u001b[0;34m\u001b[0m\u001b[0m\n\u001b[1;32m      3\u001b[0m \u001b[0mplt\u001b[0m\u001b[0;34m.\u001b[0m\u001b[0mplot\u001b[0m\u001b[0;34m(\u001b[0m\u001b[0;34m[\u001b[0m\u001b[0mstr\u001b[0m\u001b[0;34m(\u001b[0m\u001b[0mx\u001b[0m\u001b[0;34m)\u001b[0m \u001b[0;32mfor\u001b[0m \u001b[0mx\u001b[0m \u001b[0;32min\u001b[0m \u001b[0;34m[\u001b[0m\u001b[0;36m1\u001b[0m\u001b[0;34m,\u001b[0m\u001b[0;36m2\u001b[0m\u001b[0;34m,\u001b[0m\u001b[0;36m4\u001b[0m\u001b[0;34m,\u001b[0m\u001b[0;36m8\u001b[0m\u001b[0;34m,\u001b[0m\u001b[0;36m16\u001b[0m\u001b[0;34m,\u001b[0m\u001b[0;36m32\u001b[0m\u001b[0;34m,\u001b[0m\u001b[0;36m64\u001b[0m\u001b[0;34m,\u001b[0m\u001b[0;36m100\u001b[0m\u001b[0;34m,\u001b[0m\u001b[0;36m128\u001b[0m\u001b[0;34m]\u001b[0m\u001b[0;34m]\u001b[0m\u001b[0;34m,\u001b[0m\u001b[0mf1_RF\u001b[0m\u001b[0;34m,\u001b[0m\u001b[0mcolor\u001b[0m\u001b[0;34m=\u001b[0m\u001b[0;34m'#ad7fc9'\u001b[0m\u001b[0;34m,\u001b[0m\u001b[0mmarker\u001b[0m\u001b[0;34m=\u001b[0m\u001b[0;34m'8'\u001b[0m\u001b[0;34m,\u001b[0m \u001b[0mlinewidth\u001b[0m\u001b[0;34m=\u001b[0m\u001b[0;36m1.5\u001b[0m\u001b[0;34m,\u001b[0m \u001b[0mmarkersize\u001b[0m\u001b[0;34m=\u001b[0m\u001b[0;36m6\u001b[0m\u001b[0;34m)\u001b[0m\u001b[0;34m\u001b[0m\u001b[0;34m\u001b[0m\u001b[0m\n\u001b[1;32m      4\u001b[0m \u001b[0mplt\u001b[0m\u001b[0;34m.\u001b[0m\u001b[0mplot\u001b[0m\u001b[0;34m(\u001b[0m\u001b[0;34m[\u001b[0m\u001b[0mstr\u001b[0m\u001b[0;34m(\u001b[0m\u001b[0mx\u001b[0m\u001b[0;34m)\u001b[0m \u001b[0;32mfor\u001b[0m \u001b[0mx\u001b[0m \u001b[0;32min\u001b[0m \u001b[0;34m[\u001b[0m\u001b[0;36m1\u001b[0m\u001b[0;34m,\u001b[0m\u001b[0;36m2\u001b[0m\u001b[0;34m,\u001b[0m\u001b[0;36m4\u001b[0m\u001b[0;34m,\u001b[0m\u001b[0;36m8\u001b[0m\u001b[0;34m,\u001b[0m\u001b[0;36m16\u001b[0m\u001b[0;34m,\u001b[0m\u001b[0;36m32\u001b[0m\u001b[0;34m,\u001b[0m\u001b[0;36m64\u001b[0m\u001b[0;34m,\u001b[0m\u001b[0;36m100\u001b[0m\u001b[0;34m,\u001b[0m\u001b[0;36m128\u001b[0m\u001b[0;34m]\u001b[0m\u001b[0;34m]\u001b[0m\u001b[0;34m,\u001b[0m\u001b[0mf1_ANN\u001b[0m\u001b[0;34m,\u001b[0m\u001b[0mcolor\u001b[0m\u001b[0;34m=\u001b[0m\u001b[0;34m'#c97fa6'\u001b[0m\u001b[0;34m,\u001b[0m\u001b[0mmarker\u001b[0m\u001b[0;34m=\u001b[0m\u001b[0;34m'o'\u001b[0m\u001b[0;34m,\u001b[0m \u001b[0mlinewidth\u001b[0m\u001b[0;34m=\u001b[0m\u001b[0;36m1.5\u001b[0m\u001b[0;34m,\u001b[0m \u001b[0mmarkersize\u001b[0m\u001b[0;34m=\u001b[0m\u001b[0;36m6\u001b[0m\u001b[0;34m)\u001b[0m\u001b[0;34m\u001b[0m\u001b[0;34m\u001b[0m\u001b[0m\n\u001b[1;32m      5\u001b[0m \u001b[0mplt\u001b[0m\u001b[0;34m.\u001b[0m\u001b[0mplot\u001b[0m\u001b[0;34m(\u001b[0m\u001b[0;34m[\u001b[0m\u001b[0mstr\u001b[0m\u001b[0;34m(\u001b[0m\u001b[0mx\u001b[0m\u001b[0;34m)\u001b[0m \u001b[0;32mfor\u001b[0m \u001b[0mx\u001b[0m \u001b[0;32min\u001b[0m \u001b[0;34m[\u001b[0m\u001b[0;36m1\u001b[0m\u001b[0;34m,\u001b[0m\u001b[0;36m2\u001b[0m\u001b[0;34m,\u001b[0m\u001b[0;36m4\u001b[0m\u001b[0;34m,\u001b[0m\u001b[0;36m8\u001b[0m\u001b[0;34m,\u001b[0m\u001b[0;36m16\u001b[0m\u001b[0;34m,\u001b[0m\u001b[0;36m32\u001b[0m\u001b[0;34m,\u001b[0m\u001b[0;36m64\u001b[0m\u001b[0;34m,\u001b[0m\u001b[0;36m100\u001b[0m\u001b[0;34m,\u001b[0m\u001b[0;36m128\u001b[0m\u001b[0;34m]\u001b[0m\u001b[0;34m]\u001b[0m\u001b[0;34m,\u001b[0m\u001b[0mf1_CNN\u001b[0m\u001b[0;34m,\u001b[0m\u001b[0mcolor\u001b[0m\u001b[0;34m=\u001b[0m\u001b[0;34m'#e0635a'\u001b[0m\u001b[0;34m,\u001b[0m\u001b[0mmarker\u001b[0m\u001b[0;34m=\u001b[0m\u001b[0;34m'x'\u001b[0m\u001b[0;34m,\u001b[0m \u001b[0mlinewidth\u001b[0m\u001b[0;34m=\u001b[0m\u001b[0;36m1.5\u001b[0m\u001b[0;34m,\u001b[0m \u001b[0mmarkersize\u001b[0m\u001b[0;34m=\u001b[0m\u001b[0;36m6\u001b[0m\u001b[0;34m)\u001b[0m\u001b[0;34m\u001b[0m\u001b[0;34m\u001b[0m\u001b[0m\n",
            "\u001b[0;31mNameError\u001b[0m: name 'plt' is not defined"
          ]
        }
      ],
      "source": [
        "plt.plot([str(x) for x in [1,2,4,8,16,32,64,100,128]],f1_SVM,color='#90c97f',marker='^', linewidth=1.5, markersize=6)\n",
        "plt.plot([str(x) for x in [1,2,4,8,16,32,64,100,128]],f1_KNN,color='#7fa2c9',marker='s', linewidth=1.5, markersize=6)\n",
        "plt.plot([str(x) for x in [1,2,4,8,16,32,64,100,128]],f1_RF,color='#ad7fc9',marker='8', linewidth=1.5, markersize=6)\n",
        "plt.plot([str(x) for x in [1,2,4,8,16,32,64,100,128]],f1_ANN,color='#c97fa6',marker='o', linewidth=1.5, markersize=6)\n",
        "plt.plot([str(x) for x in [1,2,4,8,16,32,64,100,128]],f1_CNN,color='#e0635a',marker='x', linewidth=1.5, markersize=6)\n",
        "\n",
        "plt.ylim([0,1.1])\n",
        "plt.grid(visible=True)\n",
        "plt.legend(['SVM','KNN', 'RF', 'ANN', 'CNN'])\n",
        "plt.show()"
      ]
    },
    {
      "cell_type": "markdown",
      "metadata": {
        "id": "JE_jBdKl9iB2"
      },
      "source": [
        "# PCA visualization after training with N = 8"
      ]
    },
    {
      "cell_type": "code",
      "execution_count": null,
      "metadata": {
        "colab": {
          "base_uri": "https://localhost:8080/"
        },
        "id": "IkYu5zlo9iB2",
        "outputId": "f84c487f-8529-4755-8f87-fe97159f2cb1"
      },
      "outputs": [
        {
          "output_type": "execute_result",
          "data": {
            "text/plain": [
              "<keras.src.callbacks.History at 0x7be55caf5780>"
            ]
          },
          "metadata": {},
          "execution_count": 15
        }
      ],
      "source": [
        "# Scale and encode the data\n",
        "X_train_sc, X_test_sc, y_train_ohe, y_test_ohe, scaler, encoder = Scale_Encode(X_full, Y_full, num_training_samples=8)\n",
        "\n",
        "# Inverse transform the one-hot encoded labels to obtain original labels\n",
        "y_train, y_test = encoder.inverse_transform(y_train_ohe), encoder.inverse_transform(y_test_ohe)\n",
        "\n",
        "# Create and compile the CNN model\n",
        "cnn_model = CNN_model(encoder, X_train_sc)\n",
        "\n",
        "# Set up an early stopping callback to monitor accuracy and restore the best weights\n",
        "callback = tensorflow.keras.callbacks.EarlyStopping(monitor='accuracy', patience=10, restore_best_weights=True)\n",
        "\n",
        "# Train the CNN model\n",
        "cnn_model.fit(X_train_sc,\n",
        "              y_train_ohe,\n",
        "              epochs=200,\n",
        "              batch_size=int(0.1 * len(X_train_sc)),\n",
        "              callbacks=[callback],\n",
        "              shuffle=True,\n",
        "              verbose=0)\n"
      ]
    },
    {
      "cell_type": "code",
      "execution_count": null,
      "metadata": {
        "colab": {
          "base_uri": "https://localhost:8080/",
          "height": 563
        },
        "id": "oy4bDkcq9iB2",
        "outputId": "02f5f89e-f1fd-40f6-bfc6-ae041b26bce7"
      },
      "outputs": [
        {
          "output_type": "stream",
          "name": "stdout",
          "text": [
            "168/168 [==============================] - 0s 2ms/step\n"
          ]
        },
        {
          "output_type": "display_data",
          "data": {
            "text/plain": [
              "<Figure size 600x600 with 1 Axes>"
            ],
            "image/png": "[encoded data removed]"
          },
          "metadata": {}
        }
      ],
      "source": [
        "from sklearn.decomposition import PCA\n",
        "import matplotlib.pyplot as plt\n",
        "from mpl_toolkits.mplot3d import Axes3D\n",
        "from tensorflow.keras.models import Sequential, Model\n",
        "\n",
        "# Create a projection model from the CNN model\n",
        "projection_2d = Model(cnn_model.layers[0].input, cnn_model.layers[-2].output)\n",
        "\n",
        "# Obtain the embeddings of the test data using the projection model\n",
        "embd = projection_2d.predict(X_test_sc)\n",
        "\n",
        "# Apply PCA to reduce the dimensionality of the embeddings to 2\n",
        "pca = PCA(n_components=2)\n",
        "x_test_embd = pca.fit_transform(embd)\n",
        "\n",
        "# Create a scatter plot to visualize the embeddings in 2D\n",
        "f, ax = plt.subplots(figsize=(6, 6))\n",
        "sns.scatterplot(x=x_test_embd[::5, 0], y=x_test_embd[::5, 1], hue=y_test[::5].reshape(-1), palette=\"bright\", edgecolor='black', alpha=0.5)\n",
        "plt.title('Raw-sensor Data')\n",
        "plt.legend(bbox_to_anchor=(1.1, 1.05))\n",
        "plt.show()"
      ]
    },
    {
      "cell_type": "code",
      "execution_count": null,
      "metadata": {
        "id": "NfZ3oW7k9iB2"
      },
      "outputs": [],
      "source": []
    }
  ],
  "metadata": {
    "kernelspec": {
      "display_name": "tensorflow",
      "language": "python",
      "name": "python3"
    },
    "language_info": {
      "codemirror_mode": {
        "name": "ipython",
        "version": 3
      },
      "file_extension": ".py",
      "mimetype": "text/x-python",
      "name": "python",
      "nbconvert_exporter": "python",
      "pygments_lexer": "ipython3",
      "version": "3.9.13"
    },
    "orig_nbformat": 4,
    "colab": {
      "provenance": []
    }
  },
  "nbformat": 4,
  "nbformat_minor": 0
}